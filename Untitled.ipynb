{
 "cells": [
  {
   "cell_type": "code",
   "execution_count": 2,
   "id": "ae915c73-3ae7-4aaf-bc0b-2b41eb6050d5",
   "metadata": {
    "tags": []
   },
   "outputs": [],
   "source": [
    "import pandas as pd \n",
    "import numpy as np \n"
   ]
  },
  {
   "cell_type": "code",
   "execution_count": 3,
   "id": "3e0e69ff-30ac-4331-9e36-fe7384670ba7",
   "metadata": {},
   "outputs": [],
   "source": [
    "# Ramachandran plot regions defined by phi-psi intervals\n",
    "increments = 15\n",
    "\n",
    "beta_sheet = {\n",
    "    'phi_interval': [-150, -120],\n",
    "    'psi_interval': [90, 180]\n",
    "}\n",
    "\n",
    "helix = {\n",
    "    'phi_interval': [-90, -45],\n",
    "    'psi_interval': [-90, 0]\n",
    "}\n",
    "\n",
    "alpha_helix = {\n",
    "    'phi_interval': [-120, -90],\n",
    "    'psi_interval': [-45, 30]\n",
    "}\n",
    "\n",
    "left_handed_helix = {\n",
    "    'phi_interval': [45, 75],\n",
    "    'psi_interval': [0, 60]\n",
    "}\n",
    "\n",
    "polyprolineII = {\n",
    "    'phi_interval': [-105, -45],\n",
    "    'psi_interval': [115,175]\n",
    "}\n",
    "\n",
    "geometries = {\n",
    "    'beta_sheet': beta_sheet, \n",
    "    'helix': helix, \n",
    "    'alpha_helix': alpha_helix, \n",
    "    'polyprolineII': polyprolineII, \n",
    "    'left_handed_helix': left_handed_helix\n",
    "} \n"
   ]
  },
  {
   "cell_type": "code",
   "execution_count": 6,
   "id": "2e880f60",
   "metadata": {},
   "outputs": [
    {
     "name": "stdout",
     "output_type": "stream",
     "text": [
      "   phi  psi  end_state   energy    config  coeff  weight  dipole moment  \\\n",
      "0    0    0          2 -453.721  222u22d0  0.952   0.906          4.191   \n",
      "1    0    0          3 -453.709  22u2220d  0.948   0.899          4.171   \n",
      "2    0    0          4 -453.634  2u22220d -0.753   0.567          2.307   \n",
      "3    0    0          6 -453.610  22222ud0 -0.553   0.306          4.316   \n",
      "4    0    0          7 -453.606  22222ud0  0.606   0.367          3.748   \n",
      "\n",
      "   start_state  dx_debyes  dy_debyes  dz_debyes  totald_debyes  \\\n",
      "0            1      0.064      0.021     -0.139          0.155   \n",
      "1            1      0.027      0.003     -0.220          0.221   \n",
      "2            1     -2.096     -0.775     -0.266          2.251   \n",
      "3            1      3.751      0.644      0.571          3.848   \n",
      "4            1     -3.646     -1.026     -0.624          3.839   \n",
      "\n",
      "        transition  energy_difference_eV  \n",
      "0      n_to_pi_*_R              5.959297  \n",
      "1      n_to_pi_*_L              6.285833  \n",
      "2  pi_nb_to_pi_*_L              8.326688  \n",
      "3  pi_nb_to_pi_*_R              8.979762  \n",
      "4  pi_nb_to_pi_*_R              9.088608  \n",
      "     phi  psi  end_state   energy    config  coeff  weight  dipole moment  \\\n",
      "555  345  330          6 -453.618  22222ud0 -0.823   0.677          5.372   \n",
      "556  345  345          2 -453.729  222u22d0  0.956   0.915          4.326   \n",
      "557  345  345          3 -453.712  22u2220d  0.941   0.885          4.097   \n",
      "558  345  345          4 -453.635  2222u20d -0.840   0.706          4.525   \n",
      "559  345  345          6 -453.614  22222ud0 -0.765   0.585          2.966   \n",
      "\n",
      "     start_state  dx_debyes  dy_debyes  dz_debyes  totald_debyes  \\\n",
      "555            1     -4.517     -1.360     -2.070          5.152   \n",
      "556            1      0.146     -0.069     -0.078          0.179   \n",
      "557            1     -0.064     -0.089     -0.204          0.232   \n",
      "558            1      0.854      0.755      0.146          1.149   \n",
      "559            1      4.465      1.238      1.471          4.861   \n",
      "\n",
      "          transition  energy_difference_eV  \n",
      "555  pi_nb_to_pi_*_R              8.816494  \n",
      "556      n_to_pi_*_R              5.796028  \n",
      "557      n_to_pi_*_L              6.258622  \n",
      "558  pi_nb_to_pi_*_L              8.353900  \n",
      "559  pi_nb_to_pi_*_R              8.925339  \n"
     ]
    }
   ],
   "source": [
    "# read the csv file \n",
    "import pandas as pd \n",
    "import numpy as np \n",
    "\n",
    "df = pd.read_csv('merged_results.csv')\n",
    "\n",
    "# print the first 5 rows of the dataframe\n",
    "print(df.head())\n",
    "\n",
    "# print the last 5 rows of the dataframe\n",
    "print(df.tail())"
   ]
  },
  {
   "cell_type": "code",
   "execution_count": null,
   "id": "c584dc43",
   "metadata": {},
   "outputs": [],
   "source": []
  }
 ],
 "metadata": {
  "kernelspec": {
   "display_name": "research",
   "language": "python",
   "name": "python3"
  },
  "language_info": {
   "codemirror_mode": {
    "name": "ipython",
    "version": 3
   },
   "file_extension": ".py",
   "mimetype": "text/x-python",
   "name": "python",
   "nbconvert_exporter": "python",
   "pygments_lexer": "ipython3",
   "version": "3.11.0"
  }
 },
 "nbformat": 4,
 "nbformat_minor": 5
}
